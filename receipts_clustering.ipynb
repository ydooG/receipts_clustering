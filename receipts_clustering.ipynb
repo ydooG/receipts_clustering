{
 "cells": [
  {
   "cell_type": "markdown",
   "metadata": {},
   "source": [
    "# Кластеризация чеков\n",
    "Автор: _Хасанов Расим 11-804_\n",
    "\n",
    "#### Импорт необходимых библиотек"
   ]
  },
  {
   "cell_type": "code",
   "execution_count": 1,
   "metadata": {
    "pycharm": {
     "name": "#%%\n"
    }
   },
   "outputs": [],
   "source": [
    "import pandas as pd\n",
    "import numpy as np\n",
    "import matplotlib.pyplot as plt\n",
    "from sklearn.metrics import *\n",
    "from sklearn.model_selection import train_test_split"
   ]
  },
  {
   "cell_type": "markdown",
   "metadata": {},
   "source": [
    "#### Загрузка данных"
   ]
  },
  {
   "cell_type": "code",
   "execution_count": 2,
   "metadata": {
    "pycharm": {
     "name": "#%%\n"
    }
   },
   "outputs": [
    {
     "data": {
      "text/plain": "      Unnamed: 0         id  protocolVersion  operationType  cashTotalSum  \\\n208          208  778609825              2.0              1          2500   \n682          682  666903829              NaN              1             0   \n659          659  666903100              NaN              1          3000   \n256          256  778609131              NaN              1             0   \n1000        1000  666908541              2.0              1             0   \n294          294  778609898              NaN              1             0   \n928          928  666906366              NaN              1          2300   \n1084        1084  666908914              2.0              1         14600   \n79            79  778608319              NaN              1             0   \n188          188  778607956              2.0              1             0   \n\n      shiftNumber  counterSubmissionSum  totalSum  ecashTotalSum   nds18  ...  \\\n208            70                   0.0      2500              0     NaN  ...   \n682            25                   NaN     10000          10000  1667.0  ...   \n659            10                   NaN      3000              0     NaN  ...   \n256            30                   NaN     30756          30756  5126.0  ...   \n1000          110                   0.0         0              0     NaN  ...   \n294            14                   NaN     20000          20000     NaN  ...   \n928            54                   NaN      2300              0     NaN  ...   \n1084          110                   0.0     14600              0     NaN  ...   \n79             19                   NaN      1350           1350     NaN  ...   \n188           147                   0.0     37310          37310  6218.0  ...   \n\n     items.nds10  items.nds18  items.paymentAgentByProductType  \\\n208          NaN          NaN                              NaN   \n682          NaN          NaN                              NaN   \n659          NaN          NaN                              NaN   \n256          NaN          NaN                              NaN   \n1000         NaN          NaN                              NaN   \n294          NaN          NaN                              NaN   \n928          NaN          NaN                              NaN   \n1084         NaN          NaN                              NaN   \n79           NaN          NaN                              NaN   \n188          NaN          NaN                              NaN   \n\n      items.modifiers             userProperty.key  \\\n208               NaN  АВТОБУС (городской маршрут)   \n682               NaN                          NaN   \n659               NaN                          NaN   \n256               NaN                          NaN   \n1000              NaN                          NaN   \n294               NaN                          NaN   \n928               NaN                          NaN   \n1084              NaN                          NaN   \n79                NaN                          NaN   \n188               NaN                          NaN   \n\n                userProperty.value  propertiesUser.propertyValue  \\\n208   № транспортного средства 682                           NaN   \n682                            NaN                           NaN   \n659                            NaN                           NaN   \n256                            NaN                           NaN   \n1000                           NaN                           NaN   \n294                            NaN                           NaN   \n928                            NaN                           NaN   \n1084                           NaN                           NaN   \n79                             NaN                           NaN   \n188                            NaN                           NaN   \n\n      propertiesUser.propertyName  propertiesUser.key propertiesUser.value  \n208                           NaN                 NaN                  NaN  \n682                           NaN                 NaN                  NaN  \n659                           NaN                 NaN                  NaN  \n256                           NaN                 NaN                  NaN  \n1000                          NaN                 NaN                  NaN  \n294                           NaN                 NaN                  NaN  \n928                           NaN                 NaN                  NaN  \n1084                          NaN                 NaN                  NaN  \n79                            NaN                 NaN                  NaN  \n188                           NaN                 NaN                  NaN  \n\n[10 rows x 72 columns]",
      "text/html": "<div>\n<style scoped>\n    .dataframe tbody tr th:only-of-type {\n        vertical-align: middle;\n    }\n\n    .dataframe tbody tr th {\n        vertical-align: top;\n    }\n\n    .dataframe thead th {\n        text-align: right;\n    }\n</style>\n<table border=\"1\" class=\"dataframe\">\n  <thead>\n    <tr style=\"text-align: right;\">\n      <th></th>\n      <th>Unnamed: 0</th>\n      <th>id</th>\n      <th>protocolVersion</th>\n      <th>operationType</th>\n      <th>cashTotalSum</th>\n      <th>shiftNumber</th>\n      <th>counterSubmissionSum</th>\n      <th>totalSum</th>\n      <th>ecashTotalSum</th>\n      <th>nds18</th>\n      <th>...</th>\n      <th>items.nds10</th>\n      <th>items.nds18</th>\n      <th>items.paymentAgentByProductType</th>\n      <th>items.modifiers</th>\n      <th>userProperty.key</th>\n      <th>userProperty.value</th>\n      <th>propertiesUser.propertyValue</th>\n      <th>propertiesUser.propertyName</th>\n      <th>propertiesUser.key</th>\n      <th>propertiesUser.value</th>\n    </tr>\n  </thead>\n  <tbody>\n    <tr>\n      <th>208</th>\n      <td>208</td>\n      <td>778609825</td>\n      <td>2.0</td>\n      <td>1</td>\n      <td>2500</td>\n      <td>70</td>\n      <td>0.0</td>\n      <td>2500</td>\n      <td>0</td>\n      <td>NaN</td>\n      <td>...</td>\n      <td>NaN</td>\n      <td>NaN</td>\n      <td>NaN</td>\n      <td>NaN</td>\n      <td>АВТОБУС (городской маршрут)</td>\n      <td>№ транспортного средства 682</td>\n      <td>NaN</td>\n      <td>NaN</td>\n      <td>NaN</td>\n      <td>NaN</td>\n    </tr>\n    <tr>\n      <th>682</th>\n      <td>682</td>\n      <td>666903829</td>\n      <td>NaN</td>\n      <td>1</td>\n      <td>0</td>\n      <td>25</td>\n      <td>NaN</td>\n      <td>10000</td>\n      <td>10000</td>\n      <td>1667.0</td>\n      <td>...</td>\n      <td>NaN</td>\n      <td>NaN</td>\n      <td>NaN</td>\n      <td>NaN</td>\n      <td>NaN</td>\n      <td>NaN</td>\n      <td>NaN</td>\n      <td>NaN</td>\n      <td>NaN</td>\n      <td>NaN</td>\n    </tr>\n    <tr>\n      <th>659</th>\n      <td>659</td>\n      <td>666903100</td>\n      <td>NaN</td>\n      <td>1</td>\n      <td>3000</td>\n      <td>10</td>\n      <td>NaN</td>\n      <td>3000</td>\n      <td>0</td>\n      <td>NaN</td>\n      <td>...</td>\n      <td>NaN</td>\n      <td>NaN</td>\n      <td>NaN</td>\n      <td>NaN</td>\n      <td>NaN</td>\n      <td>NaN</td>\n      <td>NaN</td>\n      <td>NaN</td>\n      <td>NaN</td>\n      <td>NaN</td>\n    </tr>\n    <tr>\n      <th>256</th>\n      <td>256</td>\n      <td>778609131</td>\n      <td>NaN</td>\n      <td>1</td>\n      <td>0</td>\n      <td>30</td>\n      <td>NaN</td>\n      <td>30756</td>\n      <td>30756</td>\n      <td>5126.0</td>\n      <td>...</td>\n      <td>NaN</td>\n      <td>NaN</td>\n      <td>NaN</td>\n      <td>NaN</td>\n      <td>NaN</td>\n      <td>NaN</td>\n      <td>NaN</td>\n      <td>NaN</td>\n      <td>NaN</td>\n      <td>NaN</td>\n    </tr>\n    <tr>\n      <th>1000</th>\n      <td>1000</td>\n      <td>666908541</td>\n      <td>2.0</td>\n      <td>1</td>\n      <td>0</td>\n      <td>110</td>\n      <td>0.0</td>\n      <td>0</td>\n      <td>0</td>\n      <td>NaN</td>\n      <td>...</td>\n      <td>NaN</td>\n      <td>NaN</td>\n      <td>NaN</td>\n      <td>NaN</td>\n      <td>NaN</td>\n      <td>NaN</td>\n      <td>NaN</td>\n      <td>NaN</td>\n      <td>NaN</td>\n      <td>NaN</td>\n    </tr>\n    <tr>\n      <th>294</th>\n      <td>294</td>\n      <td>778609898</td>\n      <td>NaN</td>\n      <td>1</td>\n      <td>0</td>\n      <td>14</td>\n      <td>NaN</td>\n      <td>20000</td>\n      <td>20000</td>\n      <td>NaN</td>\n      <td>...</td>\n      <td>NaN</td>\n      <td>NaN</td>\n      <td>NaN</td>\n      <td>NaN</td>\n      <td>NaN</td>\n      <td>NaN</td>\n      <td>NaN</td>\n      <td>NaN</td>\n      <td>NaN</td>\n      <td>NaN</td>\n    </tr>\n    <tr>\n      <th>928</th>\n      <td>928</td>\n      <td>666906366</td>\n      <td>NaN</td>\n      <td>1</td>\n      <td>2300</td>\n      <td>54</td>\n      <td>NaN</td>\n      <td>2300</td>\n      <td>0</td>\n      <td>NaN</td>\n      <td>...</td>\n      <td>NaN</td>\n      <td>NaN</td>\n      <td>NaN</td>\n      <td>NaN</td>\n      <td>NaN</td>\n      <td>NaN</td>\n      <td>NaN</td>\n      <td>NaN</td>\n      <td>NaN</td>\n      <td>NaN</td>\n    </tr>\n    <tr>\n      <th>1084</th>\n      <td>1084</td>\n      <td>666908914</td>\n      <td>2.0</td>\n      <td>1</td>\n      <td>14600</td>\n      <td>110</td>\n      <td>0.0</td>\n      <td>14600</td>\n      <td>0</td>\n      <td>NaN</td>\n      <td>...</td>\n      <td>NaN</td>\n      <td>NaN</td>\n      <td>NaN</td>\n      <td>NaN</td>\n      <td>NaN</td>\n      <td>NaN</td>\n      <td>NaN</td>\n      <td>NaN</td>\n      <td>NaN</td>\n      <td>NaN</td>\n    </tr>\n    <tr>\n      <th>79</th>\n      <td>79</td>\n      <td>778608319</td>\n      <td>NaN</td>\n      <td>1</td>\n      <td>0</td>\n      <td>19</td>\n      <td>NaN</td>\n      <td>1350</td>\n      <td>1350</td>\n      <td>NaN</td>\n      <td>...</td>\n      <td>NaN</td>\n      <td>NaN</td>\n      <td>NaN</td>\n      <td>NaN</td>\n      <td>NaN</td>\n      <td>NaN</td>\n      <td>NaN</td>\n      <td>NaN</td>\n      <td>NaN</td>\n      <td>NaN</td>\n    </tr>\n    <tr>\n      <th>188</th>\n      <td>188</td>\n      <td>778607956</td>\n      <td>2.0</td>\n      <td>1</td>\n      <td>0</td>\n      <td>147</td>\n      <td>0.0</td>\n      <td>37310</td>\n      <td>37310</td>\n      <td>6218.0</td>\n      <td>...</td>\n      <td>NaN</td>\n      <td>NaN</td>\n      <td>NaN</td>\n      <td>NaN</td>\n      <td>NaN</td>\n      <td>NaN</td>\n      <td>NaN</td>\n      <td>NaN</td>\n      <td>NaN</td>\n      <td>NaN</td>\n    </tr>\n  </tbody>\n</table>\n<p>10 rows × 72 columns</p>\n</div>"
     },
     "execution_count": 2,
     "metadata": {},
     "output_type": "execute_result"
    }
   ],
   "source": [
    "DATA_URL = 'https://github.com/ydooG/receipts_clustering/tree/master/core/static/core/data/receipts.xlsx'\n",
    "raw_data = pd.read_excel(DATA_URL)\n",
    "raw_data.sample(n=10)"
   ]
  },
  {
   "cell_type": "markdown",
   "metadata": {},
   "source": [
    "#### Ручной анализ датасета\n",
    "Так как задача состоит в кластеризации наименований товаров, то стоит рассматривать только названия товаров. Цену товара тоже не имеет особого смысла, так как: \"Картофель за 50р/кг\", тот же самый, что и \"Картофель за 70р/кг\".<br><br>\n",
    "Таким образом задача сводится к области NLP. То есть: определить похожесть/различность слов"
   ]
  },
  {
   "cell_type": "code",
   "execution_count": 6,
   "metadata": {
    "pycharm": {
     "name": "#%%\n"
    }
   },
   "outputs": [],
   "source": [
    "df = raw_data[['items.name']]\n"
   ]
  }
 ],
 "metadata": {
  "kernelspec": {
   "display_name": "Python 3 (ipykernel)",
   "language": "python",
   "name": "python3"
  },
  "language_info": {
   "codemirror_mode": {
    "name": "ipython",
    "version": 3
   },
   "file_extension": ".py",
   "mimetype": "text/x-python",
   "name": "python",
   "nbconvert_exporter": "python",
   "pygments_lexer": "ipython3",
   "version": "3.9.5"
  }
 },
 "nbformat": 4,
 "nbformat_minor": 1
}